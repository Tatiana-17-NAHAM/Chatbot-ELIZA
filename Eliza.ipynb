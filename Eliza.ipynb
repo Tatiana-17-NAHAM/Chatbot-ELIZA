{
 "cells": [
  {
   "cell_type": "markdown",
   "id": "656217fd",
   "metadata": {},
   "source": [
    "# Modèle 1:  Règles simples, préétablies (type ELIZA)\n"
   ]
  },
  {
   "cell_type": "markdown",
   "id": "b5b806e9",
   "metadata": {},
   "source": [
    "Inspiré par le chatbot ELIZA (1963), nous allons créer notre propre chatbot à base de règles prédéfinies.\n",
    "\n",
    "Il analysera vos messages pour identifier les mots-clés et utilisera ces informations pour générer des réponses pertinentes.\n",
    "\n"
   ]
  },
  {
   "cell_type": "markdown",
   "id": "a75e41c6",
   "metadata": {},
   "source": [
    "Importations"
   ]
  },
  {
   "cell_type": "code",
   "execution_count": 40,
   "id": "b1ea5779",
   "metadata": {},
   "outputs": [],
   "source": [
    "import re\n",
    "import random"
   ]
  },
  {
   "cell_type": "markdown",
   "id": "bf8b4ce7",
   "metadata": {},
   "source": [
    "Des règles simples pour notre chatbot\n",
    "\n",
    "---\n",
    "\n",
    "On construit un dictionnaire `rules`. Chaque règle est composée d'une **clé** et d'une **valeur**.\n",
    "\n",
    "- **clé** : un motif (*regex*) que doit saisir l'utilisateur pour activer la règle.\n",
    "\n",
    "- **valeur** : les réponses possibles de votre chatbot.\n",
    "\n",
    "---\n",
    "\n",
    "**QUESTIONS :**\n",
    "\n",
    "- Imaginez une discussion chatbot / utilisateur et cernez le type de questions.\n",
    "\n",
    "- Trouvez 3 autres règles\n",
    "\n",
    "    - Une qui dit \"au-revoir\"\n",
    "\n",
    "    - Une qui répond \"bonjour {prenom}\"\n",
    "\n",
    "    - Une autre de votre choix :)\n",
    "\n",
    "\n",
    "> Ajouter une citation\n",
    "\n"
   ]
  },
  {
   "cell_type": "code",
   "execution_count": 41,
   "id": "d2b0b088",
   "metadata": {},
   "outputs": [],
   "source": [
    "import re\n",
    "import randomimport re\n",
    "import random\n",
    "\n",
    "# 💬 Règles prédéfinies du chatbot\n",
    "rules = {\n",
    "    r'(.*)je suis triste(.*)': [\n",
    "        \"Bah... qu'est-ce qui ne va pas ? \",\n",
    "        \"Oh :/ \",\n",
    "        \"Ah mince !\"\n",
    "    ],\n",
    "    r'(.*)je suis (?:heureux|content)(.*)': [\n",
    "        \"Chouette !\",\n",
    "        \"Super !\",\n",
    "        \"Génial ! \"\n",
    "    ],\n",
    "    r'(.*)je ne peux pas (.*)': [\n",
    "        \"Pourquoi pensez-vous {1} ?\",\n",
    "        \"Et pourquoi {1} ?\",\n",
    "        \"Vous en êtes sûr ? \"\n",
    "    ],\n",
    "    r'(Au )?revoir|bye': [\n",
    "        \"Au revoir ! À bientôt.\",\n",
    "        \"À la prochaine !\",\n",
    "        \"À plus tard !\"\n",
    "    ],\n",
    "    r'bonjour (?P<prenom>\\w+)': [\n",
    "        \"Bonjour {prenom} ! Comment puis-je vous aider ?\",\n",
    "        \"Salut {prenom} ! Que puis-je faire pour vous ?\",\n",
    "        \"Hello {prenom} ! Quelle est votre question ?\"\n",
    "    ],\n",
    "    r'Quel temps fait-il aujourd\\'hui\\?': [\n",
    "        \"Le temps est {météo} aujourd'hui.\",\n",
    "        \"Il fait {météo} aujourd'hui.\",\n",
    "        \"La météo indique {météo} pour aujourd'hui.\"\n",
    "    ],\n",
    "    r'(.*)(merci|thanks)(.*)': [\n",
    "        \"Avec plaisir !\",\n",
    "        \"De rien 😊\",\n",
    "        \"Je suis là pour ça !\"\n",
    "    ],\n",
    "    r'(.*)comment tu t’appelles(.*)': [\n",
    "        \"Je suis ELIZA, à votre service.\",\n",
    "        \"Tu peux m'appeler ELIZA.\",\n",
    "        \"Un simple programme, mais je fais de mon mieux.\"\n",
    "    ],\n",
    "    r'(.*)(citation|inspire|motivation)(.*)': [\n",
    "        \"“Il n’y a pas de vent favorable pour celui qui ne sait pas où il va.” – Sénèque\",\n",
    "        \"“Le succès, c’est se promener d’échec en échec tout en restant motivé.” – Churchill\",\n",
    "        \"“Fais de ta vie un rêve, et d’un rêve une réalité.” – Saint-Exupéry\"\n",
    "    ],\n",
    "    r'(.*)': [\n",
    "        \"Intéressant !\",\n",
    "        \"Ah, je comprends. Pouvez-vous en dire plus ?\",\n",
    "        \"C'est-à-dire ?\"\n",
    "    ]\n",
    "}\n",
    "\n",
    "\n"
   ]
  },
  {
   "cell_type": "markdown",
   "id": "f076b57c",
   "metadata": {},
   "source": [
    "Réponse à l'entrée utilisateur"
   ]
  },
  {
   "cell_type": "code",
   "execution_count": null,
   "id": "5444cf6b",
   "metadata": {},
   "outputs": [
    {
     "name": "stdout",
     "output_type": "stream",
     "text": [
      "Vous: je suis triste\n",
      "Chatbot: Ah mince !\n",
      "Vous: oh\n",
      "Chatbot: Intéressant !\n",
      "Vous: comment tu t'appelles?\n",
      "Chatbot: Ah, je comprends. Pouvez-vous en dire plus ?\n",
      "Vous: bonjour tati\n",
      "Chatbot: Hello {prenom} ! Quelle est votre question ?\n",
      "Vous: je suis content\n",
      "Chatbot: Super !\n",
      "Vous: nom\n",
      "Chatbot: C'est-à-dire ?\n",
      "Vous: citation\n",
      "Chatbot: “Il n’y a pas de vent favorable pour celui qui ne sait pas où il va.” – Sénèque\n"
     ]
    }
   ],
   "source": [
    "\n",
    "def respond(user_input, rules):\n",
    "    for pattern, responses in rules.items():\n",
    "        if re.match(pattern, user_input):\n",
    "            return random.choice(responses)\n",
    "    \n",
    "    return random.choice(rules[r'(.*)'])\n",
    "\n",
    "# Test de la fonction respond\n",
    "user_input = input(\"Vous: \")\n",
    "while user_input.lower() != \"exit\":\n",
    "    print(\"Chatbot:\", respond(user_input, rules))\n",
    "    user_input = input(\"Vous: \")\n"
   ]
  },
  {
   "cell_type": "markdown",
   "id": "76752fba",
   "metadata": {},
   "source": [
    "Interaction avec l'utilisateur"
   ]
  },
  {
   "cell_type": "code",
   "execution_count": null,
   "id": "eb243b04",
   "metadata": {},
   "outputs": [
    {
     "name": "stdout",
     "output_type": "stream",
     "text": [
      "Bonjour ! Je suis un chatbot basé sur des règles. Comment puis-je vous aider aujourd'hui ?\n"
     ]
    }
   ],
   "source": [
    "def respond(user_input, rules):\n",
    "    for pattern, responses in rules.items():\n",
    "        match = re.search(pattern, user_input, re.IGNORECASE)\n",
    "        if match:\n",
    "            response = random.choice(responses)\n",
    "            try:\n",
    "                return response.format(**match.groupdict())\n",
    "            except (KeyError, IndexError):\n",
    "             \n",
    "                try:\n",
    "                    return response.format(*match.groups())\n",
    "                except:\n",
    "                    return response\n",
    "    return random.choice(rules[r'(.*)'])\n",
    "\n",
    "# 💬 Interaction\n",
    "print(\"Bonjour ! Je suis un chatbot basé sur des règles. Comment puis-je vous aider aujourd'hui ?\")\n",
    "\n",
    "while True:\n",
    "    user_input = input(\"Vous: \")\n",
    "    if user_input.lower() == \"exit\":\n",
    "        print(\"ELIZA: Au revoir !\")\n",
    "        break\n",
    "    else:\n",
    "        print(\"ELIZA:\", respond(user_input, rules))\n"
   ]
  },
  {
   "cell_type": "code",
   "execution_count": 11,
   "id": "b1ca6946",
   "metadata": {},
   "outputs": [
    {
     "name": "stdout",
     "output_type": "stream",
     "text": [
      "Bonjour ! Je suis un chatbot basé sur des règles. Tapez 'exit' pour quitter.\n",
      "Vous: exit\n",
      "ELIZA: Au revoir !\n"
     ]
    }
   ],
   "source": [
    "print(\"Bonjour ! Je suis un chatbot basé sur des règles. Tapez 'exit' pour quitter.\")\n",
    "\n",
    "while True:\n",
    "    user_input = input(\"Vous: \")\n",
    "    if user_input.lower() == \"exit\":\n",
    "        print(\"ELIZA: Au revoir !\")\n",
    "        break\n",
    "    else:\n",
    "        print(\"ELIZA:\", respond(user_input, rules))\n"
   ]
  }
 ],
 "metadata": {
  "kernelspec": {
   "display_name": "Python 3 (ipykernel)",
   "language": "python",
   "name": "python3"
  },
  "language_info": {
   "codemirror_mode": {
    "name": "ipython",
    "version": 3
   },
   "file_extension": ".py",
   "mimetype": "text/x-python",
   "name": "python",
   "nbconvert_exporter": "python",
   "pygments_lexer": "ipython3",
   "version": "3.11.5"
  }
 },
 "nbformat": 4,
 "nbformat_minor": 5
}
